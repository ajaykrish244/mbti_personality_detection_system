{
 "cells": [
  {
   "cell_type": "code",
   "execution_count": 157,
   "metadata": {},
   "outputs": [],
   "source": [
    "import pandas as pd\n",
    "import numpy as np\n",
    "from imblearn.pipeline import Pipeline\n",
    "import sklearn\n",
    "import matplotlib.pyplot as plt\n",
    "from sklearn.model_selection import cross_validate\n",
    "from sklearn.model_selection import RepeatedStratifiedKFold\n",
    "from imblearn.combine import SMOTEENN\n",
    "from imblearn.under_sampling import EditedNearestNeighbours\n",
    "from sklearn.feature_extraction.text import CountVectorizer,TfidfTransformer"
   ]
  },
  {
   "cell_type": "code",
   "execution_count": 9,
   "metadata": {},
   "outputs": [],
   "source": [
    "# data = pd.read_csv('mbti_1.csv')\n",
    "df = pd.read_csv('Dataset/mbti_1.csv')\n",
    "v = df['type'].value_counts()"
   ]
  },
  {
   "cell_type": "code",
   "execution_count": 10,
   "metadata": {},
   "outputs": [
    {
     "name": "stderr",
     "output_type": "stream",
     "text": [
      "[nltk_data] Downloading package stopwords to\n",
      "[nltk_data]     C:\\Users\\Kiron\\AppData\\Roaming\\nltk_data...\n",
      "[nltk_data]   Package stopwords is already up-to-date!\n",
      "C:\\Users\\Kiron\\AppData\\Local\\Temp\\ipykernel_27000\\87628888.py:16: FutureWarning: The default value of regex will change from True to False in a future version.\n",
      "  df['posts'] = df['posts'].str.replace('\\d+', '')\n"
     ]
    }
   ],
   "source": [
    "df['posts'] = df['posts'].str.lower()\n",
    "df['posts'] = df['posts'].replace(r'http\\S+', '', regex=True).replace(r'www\\S+', '', regex=True).replace(r'https\\S+', '', regex=True)  #remove URL\n",
    "df['posts'] = df['posts'].str.replace('\\W', ' ', regex=True)\n",
    "df['posts'] = df['posts'].str.replace('_', ' ', regex=True)\n",
    "df['posts'] = df['posts'].str.strip()\n",
    "\n",
    "import nltk\n",
    "nltk.download('stopwords')\n",
    "from nltk.corpus import stopwords\n",
    "\n",
    "stop_words = stopwords.words('english')\n",
    "df['posts'] = df['posts'].apply(lambda x: ' '.join([word\n",
    "   for word in x.split() if word not in (stop_words)\n",
    "]))\n",
    "\n",
    "df['posts'] = df['posts'].str.replace('\\d+', '')"
   ]
  },
  {
   "cell_type": "code",
   "execution_count": 160,
   "metadata": {},
   "outputs": [],
   "source": [
    "df.to_csv('mbti_processed.csv', encoding='utf-8', index=False)"
   ]
  },
  {
   "cell_type": "code",
   "execution_count": 11,
   "metadata": {},
   "outputs": [
    {
     "name": "stderr",
     "output_type": "stream",
     "text": [
      "[nltk_data] Downloading package punkt to\n",
      "[nltk_data]     C:\\Users\\Kiron\\AppData\\Roaming\\nltk_data...\n",
      "[nltk_data]   Package punkt is already up-to-date!\n",
      "[nltk_data] Downloading package wordnet to\n",
      "[nltk_data]     C:\\Users\\Kiron\\AppData\\Roaming\\nltk_data...\n",
      "[nltk_data]   Package wordnet is already up-to-date!\n"
     ]
    }
   ],
   "source": [
    "nltk.download('punkt')\n",
    "from nltk import word_tokenize\n",
    "#df['tokenized'] = nltk.word_tokenize(df['posts'])\n",
    "\n",
    "from nltk.stem import WordNetLemmatizer\n",
    "#nltk.download('all', halt_on_error=False)\n",
    "\n",
    "df['tokenized'] = [word_tokenize(entry) for entry in df['posts']]\n",
    "nltk.download('wordnet')\n",
    "\n",
    "\n",
    "def lemmatize(s):\n",
    "    s = [WordNetLemmatizer().lemmatize(word) for word in s]\n",
    "    return s\n",
    "\n",
    "df = df.assign(lemmatized = df.tokenized.apply(lambda x: lemmatize(x)))\n",
    "\n",
    "df.to_csv('mbt_lemmatized.csv', encoding='utf-8', index=False)\n",
    "df['lemmatizedstring'] = df['lemmatized'].apply(lambda x: ' '.join(map(str, x)))"
   ]
  },
  {
   "cell_type": "code",
   "execution_count": 12,
   "metadata": {},
   "outputs": [],
   "source": [
    "from sklearn.model_selection import train_test_split\n",
    "train_data,test_data=train_test_split(df,test_size=0.2,random_state=42,stratify=df.type)"
   ]
  },
  {
   "cell_type": "code",
   "execution_count": 13,
   "metadata": {},
   "outputs": [],
   "source": [
    "vectorizer=sklearn.feature_extraction.text.TfidfVectorizer( max_features=603,stop_words='english')\n",
    "vectorizer.fit(train_data.lemmatizedstring)\n",
    "train_post=vectorizer.transform(train_data.lemmatizedstring).toarray()\n",
    "test_post=vectorizer.transform(test_data.lemmatizedstring).toarray()"
   ]
  },
  {
   "cell_type": "code",
   "execution_count": 14,
   "metadata": {},
   "outputs": [],
   "source": [
    "from sklearn.preprocessing import LabelEncoder\n",
    "target_encoder=LabelEncoder()\n",
    "train_target=target_encoder.fit_transform(train_data.type)\n",
    "test_target=target_encoder.fit_transform(test_data.type)"
   ]
  },
  {
   "cell_type": "code",
   "execution_count": 15,
   "metadata": {},
   "outputs": [
    {
     "name": "stdout",
     "output_type": "stream",
     "text": [
      "[[0.         0.07508327 0.04557515 ... 0.0512014  0.10091106 0.        ]\n",
      " [0.         0.         0.         ... 0.03099059 0.         0.06158595]\n",
      " [0.         0.         0.         ... 0.12570797 0.         0.        ]\n",
      " ...\n",
      " [0.         0.05311942 0.         ... 0.04182063 0.00754512 0.        ]\n",
      " [0.         0.01130907 0.         ... 0.         0.00379981 0.        ]\n",
      " [0.02361384 0.01725109 0.03658704 ... 0.         0.         0.        ]]\n"
     ]
    }
   ],
   "source": [
    "from imblearn.over_sampling import SMOTE\n",
    "sm = SMOTE(random_state=42)\n",
    "train_res,train_target_res= sm.fit_resample(train_post,train_target)\n",
    "print(train_res)"
   ]
  },
  {
   "cell_type": "code",
   "execution_count": 153,
   "metadata": {},
   "outputs": [
    {
     "data": {
      "text/plain": [
       "(23456, 603)"
      ]
     },
     "execution_count": 153,
     "metadata": {},
     "output_type": "execute_result"
    }
   ],
   "source": [
    "train_res.shape"
   ]
  },
  {
   "cell_type": "code",
   "execution_count": 154,
   "metadata": {},
   "outputs": [
    {
     "data": {
      "text/plain": [
       "(23456,)"
      ]
     },
     "execution_count": 154,
     "metadata": {},
     "output_type": "execute_result"
    }
   ],
   "source": [
    "train_target_res.shape"
   ]
  },
  {
   "cell_type": "code",
   "execution_count": 155,
   "metadata": {},
   "outputs": [
    {
     "name": "stdout",
     "output_type": "stream",
     "text": [
      "The train accuracy score for model trained on Support Classifier is: 0.9898533424283765\n",
      "The test accuracy score for model trained on Support Vector classifier is: 0.6628242074927954\n"
     ]
    }
   ],
   "source": [
    "from sklearn.metrics import accuracy_score\n",
    "from sklearn.svm import SVC\n",
    "model_svc=SVC()\n",
    "model_svc.fit(train_res,train_target_res)\n",
    "pred_svc=model_svc.predict(test_post)\n",
    "pred_training_svc=model_svc.predict(train_res)\n",
    "print(\"The train accuracy score for model trained on Support Classifier is:\",accuracy_score(train_target_res,pred_training_svc))\n",
    "print(\"The test accuracy score for model trained on Support Vector classifier is:\",accuracy_score(test_target,pred_svc))\n",
    "from sklearn.metrics import classification_report\n",
    "personality_types=target_encoder.inverse_transform([i for i in range(16)])\n",
    "# print('Test classification report of Support Vector Machine\\n',classification_report(test_target,model_svc.predict(test_post),target_names=personality))"
   ]
  },
  {
   "cell_type": "code",
   "execution_count": 156,
   "metadata": {},
   "outputs": [
    {
     "name": "stdout",
     "output_type": "stream",
     "text": [
      "The train accuracy score for model trained on Logistic Regression is: 0.8799454297407913\n",
      "The test accuracy score for model trained on Logistic Regression is: 0.6576368876080692\n"
     ]
    }
   ],
   "source": [
    "from sklearn.linear_model import LogisticRegression\n",
    "model_logreg=LogisticRegression(max_iter=3000,C=0.5,n_jobs=-1)\n",
    "model_logreg.fit(train_res,train_target_res)\n",
    "pred_lg=model_logreg.predict(test_post)\n",
    "pred_training_lg=model_logreg.predict(train_res)\n",
    "print(\"The train accuracy score for model trained on Logistic Regression is:\",accuracy_score(train_target_res,pred_training_lg))\n",
    "print(\"The test accuracy score for model trained on Logistic Regression is:\",accuracy_score(test_target,pred_lg))\n",
    "# print('test classification report \\n',sklearn.metrics.classification_report(test_target,model_logreg.predict(test_post),target_names=target_encoder.inverse_transform([i for i in range(16)])))"
   ]
  },
  {
   "cell_type": "code",
   "execution_count": 36,
   "metadata": {},
   "outputs": [
    {
     "name": "stdout",
     "output_type": "stream",
     "text": [
      "The train accuracy score for model trained on Naive Bayes is: 0.8911152796725784\n",
      "The test accuracy score for model trained on Naive Bayes is: 0.5193083573487032\n"
     ]
    }
   ],
   "source": [
    "from sklearn.metrics import accuracy_score\n",
    "from sklearn.naive_bayes import MultinomialNB\n",
    "model_multinomial_nb=MultinomialNB()\n",
    "model_multinomial_nb.fit(train_res,train_target_res)\n",
    "pred_nb=model_multinomial_nb.predict(test_post)\n",
    "pred_training_nb=model_multinomial_nb.predict(train_res)\n",
    "print(\"The train accuracy score for model trained on Naive Bayes is:\",accuracy_score(train_target_res,pred_training_nb))\n",
    "print(\"The test accuracy score for model trained on Naive Bayes is:\",accuracy_score(test_target,pred_nb))"
   ]
  },
  {
   "cell_type": "code",
   "execution_count": 16,
   "metadata": {},
   "outputs": [
    {
     "data": {
      "text/html": [
       "<style>#sk-container-id-1 {color: black;background-color: white;}#sk-container-id-1 pre{padding: 0;}#sk-container-id-1 div.sk-toggleable {background-color: white;}#sk-container-id-1 label.sk-toggleable__label {cursor: pointer;display: block;width: 100%;margin-bottom: 0;padding: 0.3em;box-sizing: border-box;text-align: center;}#sk-container-id-1 label.sk-toggleable__label-arrow:before {content: \"▸\";float: left;margin-right: 0.25em;color: #696969;}#sk-container-id-1 label.sk-toggleable__label-arrow:hover:before {color: black;}#sk-container-id-1 div.sk-estimator:hover label.sk-toggleable__label-arrow:before {color: black;}#sk-container-id-1 div.sk-toggleable__content {max-height: 0;max-width: 0;overflow: hidden;text-align: left;background-color: #f0f8ff;}#sk-container-id-1 div.sk-toggleable__content pre {margin: 0.2em;color: black;border-radius: 0.25em;background-color: #f0f8ff;}#sk-container-id-1 input.sk-toggleable__control:checked~div.sk-toggleable__content {max-height: 200px;max-width: 100%;overflow: auto;}#sk-container-id-1 input.sk-toggleable__control:checked~label.sk-toggleable__label-arrow:before {content: \"▾\";}#sk-container-id-1 div.sk-estimator input.sk-toggleable__control:checked~label.sk-toggleable__label {background-color: #d4ebff;}#sk-container-id-1 div.sk-label input.sk-toggleable__control:checked~label.sk-toggleable__label {background-color: #d4ebff;}#sk-container-id-1 input.sk-hidden--visually {border: 0;clip: rect(1px 1px 1px 1px);clip: rect(1px, 1px, 1px, 1px);height: 1px;margin: -1px;overflow: hidden;padding: 0;position: absolute;width: 1px;}#sk-container-id-1 div.sk-estimator {font-family: monospace;background-color: #f0f8ff;border: 1px dotted black;border-radius: 0.25em;box-sizing: border-box;margin-bottom: 0.5em;}#sk-container-id-1 div.sk-estimator:hover {background-color: #d4ebff;}#sk-container-id-1 div.sk-parallel-item::after {content: \"\";width: 100%;border-bottom: 1px solid gray;flex-grow: 1;}#sk-container-id-1 div.sk-label:hover label.sk-toggleable__label {background-color: #d4ebff;}#sk-container-id-1 div.sk-serial::before {content: \"\";position: absolute;border-left: 1px solid gray;box-sizing: border-box;top: 0;bottom: 0;left: 50%;z-index: 0;}#sk-container-id-1 div.sk-serial {display: flex;flex-direction: column;align-items: center;background-color: white;padding-right: 0.2em;padding-left: 0.2em;position: relative;}#sk-container-id-1 div.sk-item {position: relative;z-index: 1;}#sk-container-id-1 div.sk-parallel {display: flex;align-items: stretch;justify-content: center;background-color: white;position: relative;}#sk-container-id-1 div.sk-item::before, #sk-container-id-1 div.sk-parallel-item::before {content: \"\";position: absolute;border-left: 1px solid gray;box-sizing: border-box;top: 0;bottom: 0;left: 50%;z-index: -1;}#sk-container-id-1 div.sk-parallel-item {display: flex;flex-direction: column;z-index: 1;position: relative;background-color: white;}#sk-container-id-1 div.sk-parallel-item:first-child::after {align-self: flex-end;width: 50%;}#sk-container-id-1 div.sk-parallel-item:last-child::after {align-self: flex-start;width: 50%;}#sk-container-id-1 div.sk-parallel-item:only-child::after {width: 0;}#sk-container-id-1 div.sk-dashed-wrapped {border: 1px dashed gray;margin: 0 0.4em 0.5em 0.4em;box-sizing: border-box;padding-bottom: 0.4em;background-color: white;}#sk-container-id-1 div.sk-label label {font-family: monospace;font-weight: bold;display: inline-block;line-height: 1.2em;}#sk-container-id-1 div.sk-label-container {text-align: center;}#sk-container-id-1 div.sk-container {/* jupyter's `normalize.less` sets `[hidden] { display: none; }` but bootstrap.min.css set `[hidden] { display: none !important; }` so we also need the `!important` here to be able to override the default hidden behavior on the sphinx rendered scikit-learn.org. See: https://github.com/scikit-learn/scikit-learn/issues/21755 */display: inline-block !important;position: relative;}#sk-container-id-1 div.sk-text-repr-fallback {display: none;}</style><div id=\"sk-container-id-1\" class=\"sk-top-container\"><div class=\"sk-text-repr-fallback\"><pre>XGBClassifier(base_score=0.5, booster=&#x27;gbtree&#x27;, callbacks=None,\n",
       "              colsample_bylevel=1, colsample_bynode=1, colsample_bytree=1,\n",
       "              early_stopping_rounds=None, enable_categorical=False,\n",
       "              eval_metric=None, feature_types=None, gamma=0, gpu_id=0,\n",
       "              grow_policy=&#x27;depthwise&#x27;, importance_type=None,\n",
       "              interaction_constraints=&#x27;&#x27;, learning_rate=0.2, max_bin=256,\n",
       "              max_cat_threshold=64, max_cat_to_onehot=4, max_delta_step=0,\n",
       "              max_depth=5, max_leaves=0, min_child_weight=1, missing=nan,\n",
       "              monotone_constraints=&#x27;()&#x27;, n_estimators=50, n_jobs=0,\n",
       "              num_parallel_tree=1, objective=&#x27;multi:softprob&#x27;, predictor=&#x27;auto&#x27;, ...)</pre><b>In a Jupyter environment, please rerun this cell to show the HTML representation or trust the notebook. <br />On GitHub, the HTML representation is unable to render, please try loading this page with nbviewer.org.</b></div><div class=\"sk-container\" hidden><div class=\"sk-item\"><div class=\"sk-estimator sk-toggleable\"><input class=\"sk-toggleable__control sk-hidden--visually\" id=\"sk-estimator-id-1\" type=\"checkbox\" checked><label for=\"sk-estimator-id-1\" class=\"sk-toggleable__label sk-toggleable__label-arrow\">XGBClassifier</label><div class=\"sk-toggleable__content\"><pre>XGBClassifier(base_score=0.5, booster=&#x27;gbtree&#x27;, callbacks=None,\n",
       "              colsample_bylevel=1, colsample_bynode=1, colsample_bytree=1,\n",
       "              early_stopping_rounds=None, enable_categorical=False,\n",
       "              eval_metric=None, feature_types=None, gamma=0, gpu_id=0,\n",
       "              grow_policy=&#x27;depthwise&#x27;, importance_type=None,\n",
       "              interaction_constraints=&#x27;&#x27;, learning_rate=0.2, max_bin=256,\n",
       "              max_cat_threshold=64, max_cat_to_onehot=4, max_delta_step=0,\n",
       "              max_depth=5, max_leaves=0, min_child_weight=1, missing=nan,\n",
       "              monotone_constraints=&#x27;()&#x27;, n_estimators=50, n_jobs=0,\n",
       "              num_parallel_tree=1, objective=&#x27;multi:softprob&#x27;, predictor=&#x27;auto&#x27;, ...)</pre></div></div></div></div></div>"
      ],
      "text/plain": [
       "XGBClassifier(base_score=0.5, booster='gbtree', callbacks=None,\n",
       "              colsample_bylevel=1, colsample_bynode=1, colsample_bytree=1,\n",
       "              early_stopping_rounds=None, enable_categorical=False,\n",
       "              eval_metric=None, feature_types=None, gamma=0, gpu_id=0,\n",
       "              grow_policy='depthwise', importance_type=None,\n",
       "              interaction_constraints='', learning_rate=0.2, max_bin=256,\n",
       "              max_cat_threshold=64, max_cat_to_onehot=4, max_delta_step=0,\n",
       "              max_depth=5, max_leaves=0, min_child_weight=1, missing=nan,\n",
       "              monotone_constraints='()', n_estimators=50, n_jobs=0,\n",
       "              num_parallel_tree=1, objective='multi:softprob', predictor='auto', ...)"
      ]
     },
     "execution_count": 16,
     "metadata": {},
     "output_type": "execute_result"
    }
   ],
   "source": [
    "from xgboost import XGBClassifier\n",
    "model_xgb=XGBClassifier(gpu_id=0,tree_method='gpu_hist',max_depth=5,n_estimators=50,learning_rate=0.2)\n",
    "model_xgb.fit(train_res,train_target_res)"
   ]
  },
  {
   "cell_type": "code",
   "execution_count": 17,
   "metadata": {},
   "outputs": [
    {
     "name": "stdout",
     "output_type": "stream",
     "text": [
      "The train accuracy score for model trained on xgb is: 0.9925392223738063\n",
      "The test accuracy score for model trained on xgb is: 0.6570605187319885\n"
     ]
    }
   ],
   "source": [
    "pred_xg=model_xgb.predict(test_post)\n",
    "pred_training_xg=model_xgb.predict(train_res)\n",
    "print(\"The train accuracy score for model trained on xgb is:\",accuracy_score(train_target_res,pred_training_xg))\n",
    "print(\"The test accuracy score for model trained on xgb is:\",accuracy_score(test_target,pred_xg))"
   ]
  },
  {
   "cell_type": "code",
   "execution_count": 19,
   "metadata": {},
   "outputs": [
    {
     "name": "stdout",
     "output_type": "stream",
     "text": [
      "test classification report \n",
      "                precision    recall  f1-score   support\n",
      "\n",
      "        ENFJ       0.51      0.47      0.49        38\n",
      "        ENFP       0.71      0.64      0.67       135\n",
      "        ENTJ       0.59      0.41      0.49        46\n",
      "        ENTP       0.62      0.64      0.63       137\n",
      "        ESFJ       0.50      0.11      0.18         9\n",
      "        ESFP       1.00      0.10      0.18        10\n",
      "        ESTJ       0.50      0.25      0.33         8\n",
      "        ESTP       0.55      0.33      0.41        18\n",
      "        INFJ       0.67      0.70      0.68       294\n",
      "        INFP       0.68      0.73      0.71       366\n",
      "        INTJ       0.62      0.65      0.64       218\n",
      "        INTP       0.70      0.74      0.72       261\n",
      "        ISFJ       0.59      0.48      0.53        33\n",
      "        ISFP       0.60      0.50      0.55        54\n",
      "        ISTJ       0.65      0.54      0.59        41\n",
      "        ISTP       0.61      0.69      0.65        67\n",
      "\n",
      "    accuracy                           0.66      1735\n",
      "   macro avg       0.63      0.50      0.53      1735\n",
      "weighted avg       0.66      0.66      0.65      1735\n",
      "\n"
     ]
    }
   ],
   "source": [
    "#print('train classification report \\n ',sklearn.metrics.classification_report(train_target_res,model_xgb.predict(train_res),target_names=target_encoder.inverse_transform([i for i in range(16)])))\n",
    "print('test classification report \\n ',sklearn.metrics.classification_report(test_target,model_xgb.predict(test_post),target_names=target_encoder.inverse_transform([i for i in range(16)])))\n"
   ]
  },
  {
   "cell_type": "code",
   "execution_count": 1,
   "metadata": {},
   "outputs": [],
   "source": [
    "import tensorflow"
   ]
  },
  {
   "cell_type": "code",
   "execution_count": 104,
   "metadata": {},
   "outputs": [],
   "source": [
    "X_train = np.array(train_res)\n",
    "X_test = np.array(test_post)"
   ]
  },
  {
   "cell_type": "code",
   "execution_count": 105,
   "metadata": {},
   "outputs": [],
   "source": [
    "X_train = X_train.reshape(X_train.shape[0],X_train.shape[1], 1)\n",
    "X_test = X_test.reshape(X_test.shape[0],X_test.shape[1], 1)"
   ]
  },
  {
   "cell_type": "code",
   "execution_count": 122,
   "metadata": {},
   "outputs": [],
   "source": [
    "batch_size = 32\n",
    "num_classes = 16\n",
    "epochs = 50\n",
    "input_shape = (X_train.shape[1], 1)\n"
   ]
  },
  {
   "cell_type": "code",
   "execution_count": 123,
   "metadata": {},
   "outputs": [],
   "source": [
    "import pandas as pd\n",
    "import keras.backend as K\n",
    "import numpy as np\n",
    "import pandas as pd\n",
    "from keras.models import Sequential\n",
    "from keras.layers import Dense\n",
    "from keras.models import Sequential\n",
    "from keras.layers.convolutional import Conv1D\n",
    "from keras.layers.convolutional import MaxPooling1D\n",
    "from tensorflow.keras.utils import to_categorical \n",
    "from keras.layers import Flatten\n",
    "from keras.layers import Dense\n",
    "import numpy as np\n",
    "import keras\n",
    "from keras.datasets import mnist\n",
    "from keras.models import Sequential\n",
    "from keras.layers import Dense, Dropout, Flatten, Conv2D, MaxPooling2D\n",
    "from keras import backend as K\n",
    "from keras.models import Model\n",
    "import timeit\n",
    "from keras.models import Sequential\n",
    "from keras.layers.core import Flatten, Dense, Dropout\n",
    "from keras.layers.convolutional import Convolution1D, MaxPooling1D, ZeroPadding1D\n",
    "from tensorflow.keras.optimizers import SGD\n",
    "#import cv2, numpy as np\n",
    "import warnings\n",
    "warnings.filterwarnings('ignore')\n",
    "\n",
    "from keras.layers import Convolution1D, ZeroPadding1D, MaxPooling1D, BatchNormalization, Activation, Dropout, Flatten, Dense\n",
    "from keras.regularizers import l2"
   ]
  },
  {
   "cell_type": "code",
   "execution_count": 124,
   "metadata": {},
   "outputs": [
    {
     "name": "stdout",
     "output_type": "stream",
     "text": [
      "Model: \"sequential_6\"\n",
      "_________________________________________________________________\n",
      " Layer (type)                Output Shape              Param #   \n",
      "=================================================================\n",
      " conv1d_18 (Conv1D)          (None, 603, 64)           256       \n",
      "                                                                 \n",
      " batch_normalization_12 (Bat  (None, 603, 64)          256       \n",
      " chNormalization)                                                \n",
      "                                                                 \n",
      " max_pooling1d_18 (MaxPoolin  (None, 301, 64)          0         \n",
      " g1D)                                                            \n",
      "                                                                 \n",
      " conv1d_19 (Conv1D)          (None, 301, 64)           12352     \n",
      "                                                                 \n",
      " batch_normalization_13 (Bat  (None, 301, 64)          256       \n",
      " chNormalization)                                                \n",
      "                                                                 \n",
      " max_pooling1d_19 (MaxPoolin  (None, 150, 64)          0         \n",
      " g1D)                                                            \n",
      "                                                                 \n",
      " conv1d_20 (Conv1D)          (None, 150, 32)           6176      \n",
      "                                                                 \n",
      " max_pooling1d_20 (MaxPoolin  (None, 75, 32)           0         \n",
      " g1D)                                                            \n",
      "                                                                 \n",
      " flatten_6 (Flatten)         (None, 2400)              0         \n",
      "                                                                 \n",
      " dense_14 (Dense)            (None, 32)                76832     \n",
      "                                                                 \n",
      " dropout_8 (Dropout)         (None, 32)                0         \n",
      "                                                                 \n",
      " dense_15 (Dense)            (None, 16)                528       \n",
      "                                                                 \n",
      "=================================================================\n",
      "Total params: 96,656\n",
      "Trainable params: 96,400\n",
      "Non-trainable params: 256\n",
      "_________________________________________________________________\n"
     ]
    }
   ],
   "source": [
    "model = Sequential()\n",
    "intput_shape=(X_train.shape[1], 1)\n",
    "model.add(Conv1D(64, kernel_size=3,padding = 'same',activation='relu', input_shape=input_shape))\n",
    "model.add(BatchNormalization())\n",
    "model.add(MaxPooling1D(pool_size=(2)))\n",
    "model.add(Conv1D(64,kernel_size=3,padding = 'same', activation='relu'))\n",
    "model.add(BatchNormalization())\n",
    "model.add(MaxPooling1D(pool_size=(2)))\n",
    "model.add(Conv1D(32,kernel_size=3,padding = 'same', activation='relu'))\n",
    "model.add(MaxPooling1D(pool_size=(2)))\n",
    "model.add(Flatten())\n",
    "model.add(Dense(32, activation='relu'))\n",
    "model.add(Dropout(0.2))\n",
    "model.add(Dense(num_classes, activation='softmax'))\n",
    "model.summary()"
   ]
  },
  {
   "cell_type": "code",
   "execution_count": 125,
   "metadata": {},
   "outputs": [],
   "source": [
    "model.compile(loss=keras.losses.categorical_crossentropy,\n",
    "              optimizer='adam',\n",
    "              metrics=['accuracy'])"
   ]
  },
  {
   "cell_type": "code",
   "execution_count": 126,
   "metadata": {},
   "outputs": [],
   "source": [
    "Y_train = np.array(train_target_res)\n",
    "Y_test = np.array(test_target)"
   ]
  },
  {
   "cell_type": "code",
   "execution_count": 127,
   "metadata": {},
   "outputs": [],
   "source": [
    "from tensorflow.keras.utils import to_categorical\n",
    "Y_train = to_categorical(Y_train)\n",
    "Y_test = to_categorical(Y_test)"
   ]
  },
  {
   "cell_type": "code",
   "execution_count": 128,
   "metadata": {},
   "outputs": [
    {
     "data": {
      "text/plain": [
       "(1735, 16)"
      ]
     },
     "execution_count": 128,
     "metadata": {},
     "output_type": "execute_result"
    }
   ],
   "source": [
    "Y_test.shape"
   ]
  },
  {
   "cell_type": "code",
   "execution_count": 129,
   "metadata": {},
   "outputs": [
    {
     "name": "stdout",
     "output_type": "stream",
     "text": [
      "Epoch 1/50\n",
      "733/733 [==============================] - 35s 47ms/step - loss: 1.7220 - accuracy: 0.4578 - val_loss: 2.0629 - val_accuracy: 0.4069\n",
      "Epoch 2/50\n",
      "733/733 [==============================] - 34s 47ms/step - loss: 1.0047 - accuracy: 0.6784 - val_loss: 1.6279 - val_accuracy: 0.5210\n",
      "Epoch 3/50\n",
      "733/733 [==============================] - 34s 46ms/step - loss: 0.8192 - accuracy: 0.7262 - val_loss: 1.5978 - val_accuracy: 0.5470\n",
      "Epoch 4/50\n",
      "733/733 [==============================] - 34s 47ms/step - loss: 0.7109 - accuracy: 0.7594 - val_loss: 1.7463 - val_accuracy: 0.5401\n",
      "Epoch 5/50\n",
      "733/733 [==============================] - 34s 46ms/step - loss: 0.6316 - accuracy: 0.7825 - val_loss: 1.7263 - val_accuracy: 0.5620\n",
      "Epoch 6/50\n",
      "733/733 [==============================] - 34s 46ms/step - loss: 0.5835 - accuracy: 0.8007 - val_loss: 1.9183 - val_accuracy: 0.5493\n",
      "Epoch 7/50\n",
      "733/733 [==============================] - 34s 46ms/step - loss: 0.5488 - accuracy: 0.8111 - val_loss: 2.0635 - val_accuracy: 0.5256\n",
      "Epoch 8/50\n",
      "733/733 [==============================] - 34s 47ms/step - loss: 0.5139 - accuracy: 0.8197 - val_loss: 2.1116 - val_accuracy: 0.5354\n",
      "Epoch 9/50\n",
      "733/733 [==============================] - 34s 46ms/step - loss: 0.4879 - accuracy: 0.8308 - val_loss: 1.9138 - val_accuracy: 0.5256\n",
      "Epoch 10/50\n",
      "733/733 [==============================] - 34s 46ms/step - loss: 0.4606 - accuracy: 0.8366 - val_loss: 2.5774 - val_accuracy: 0.5418\n",
      "Epoch 11/50\n",
      "733/733 [==============================] - 34s 46ms/step - loss: 0.4444 - accuracy: 0.8438 - val_loss: 2.4202 - val_accuracy: 0.5533\n",
      "Epoch 12/50\n",
      "733/733 [==============================] - 34s 46ms/step - loss: 0.4281 - accuracy: 0.8480 - val_loss: 2.4003 - val_accuracy: 0.5366\n",
      "Epoch 13/50\n",
      "733/733 [==============================] - 35s 47ms/step - loss: 0.4142 - accuracy: 0.8518 - val_loss: 2.7604 - val_accuracy: 0.5193\n",
      "Epoch 14/50\n",
      "733/733 [==============================] - 34s 46ms/step - loss: 0.3987 - accuracy: 0.8599 - val_loss: 2.5240 - val_accuracy: 0.5354\n",
      "Epoch 15/50\n",
      "733/733 [==============================] - 34s 46ms/step - loss: 0.3978 - accuracy: 0.8585 - val_loss: 2.6422 - val_accuracy: 0.5378\n",
      "Epoch 16/50\n",
      "733/733 [==============================] - 35s 48ms/step - loss: 0.3787 - accuracy: 0.8616 - val_loss: 2.9203 - val_accuracy: 0.5210\n",
      "Epoch 17/50\n",
      "733/733 [==============================] - 35s 47ms/step - loss: 0.3846 - accuracy: 0.8634 - val_loss: 2.5719 - val_accuracy: 0.5429\n",
      "Epoch 18/50\n",
      "733/733 [==============================] - 35s 47ms/step - loss: 0.3732 - accuracy: 0.8677 - val_loss: 2.6143 - val_accuracy: 0.5331\n",
      "Epoch 19/50\n",
      "733/733 [==============================] - 34s 47ms/step - loss: 0.3646 - accuracy: 0.8716 - val_loss: 3.3698 - val_accuracy: 0.5159\n",
      "Epoch 20/50\n",
      "733/733 [==============================] - 34s 47ms/step - loss: 0.3529 - accuracy: 0.8753 - val_loss: 3.2734 - val_accuracy: 0.5291\n",
      "Epoch 21/50\n",
      "733/733 [==============================] - 35s 48ms/step - loss: 0.3540 - accuracy: 0.8733 - val_loss: 3.3203 - val_accuracy: 0.5291\n",
      "Epoch 22/50\n",
      "733/733 [==============================] - 35s 47ms/step - loss: 0.3524 - accuracy: 0.8739 - val_loss: 2.7743 - val_accuracy: 0.5182\n",
      "Epoch 23/50\n",
      "733/733 [==============================] - 35s 47ms/step - loss: 0.3480 - accuracy: 0.8736 - val_loss: 3.0423 - val_accuracy: 0.5337\n",
      "Epoch 24/50\n",
      "733/733 [==============================] - 35s 48ms/step - loss: 0.3358 - accuracy: 0.8809 - val_loss: 2.8284 - val_accuracy: 0.5153\n",
      "Epoch 25/50\n",
      "733/733 [==============================] - 34s 47ms/step - loss: 0.3465 - accuracy: 0.8744 - val_loss: 3.1045 - val_accuracy: 0.5055\n",
      "Epoch 26/50\n",
      "733/733 [==============================] - 35s 47ms/step - loss: 0.3349 - accuracy: 0.8801 - val_loss: 3.0211 - val_accuracy: 0.5389\n",
      "Epoch 27/50\n",
      "733/733 [==============================] - 34s 47ms/step - loss: 0.3257 - accuracy: 0.8831 - val_loss: 3.2866 - val_accuracy: 0.5349\n",
      "Epoch 28/50\n",
      "733/733 [==============================] - 34s 47ms/step - loss: 0.3173 - accuracy: 0.8866 - val_loss: 3.1047 - val_accuracy: 0.5447\n",
      "Epoch 29/50\n",
      "733/733 [==============================] - 34s 47ms/step - loss: 0.3244 - accuracy: 0.8822 - val_loss: 3.5224 - val_accuracy: 0.5429\n",
      "Epoch 30/50\n",
      "733/733 [==============================] - 34s 47ms/step - loss: 0.3187 - accuracy: 0.8863 - val_loss: 3.6141 - val_accuracy: 0.5043\n",
      "Epoch 31/50\n",
      "733/733 [==============================] - 34s 47ms/step - loss: 0.3052 - accuracy: 0.8915 - val_loss: 3.6900 - val_accuracy: 0.5285\n",
      "Epoch 32/50\n",
      "733/733 [==============================] - 34s 47ms/step - loss: 0.3052 - accuracy: 0.8929 - val_loss: 3.3225 - val_accuracy: 0.5331\n",
      "Epoch 33/50\n",
      "733/733 [==============================] - 35s 47ms/step - loss: 0.3085 - accuracy: 0.8921 - val_loss: 3.6982 - val_accuracy: 0.5395\n",
      "Epoch 34/50\n",
      "733/733 [==============================] - 35s 48ms/step - loss: 0.3088 - accuracy: 0.8909 - val_loss: 4.2013 - val_accuracy: 0.5066\n",
      "Epoch 35/50\n",
      "733/733 [==============================] - 35s 47ms/step - loss: 0.3035 - accuracy: 0.8931 - val_loss: 3.8593 - val_accuracy: 0.5256\n",
      "Epoch 36/50\n",
      "733/733 [==============================] - 34s 47ms/step - loss: 0.3010 - accuracy: 0.8917 - val_loss: 3.8765 - val_accuracy: 0.5297\n",
      "Epoch 37/50\n",
      "733/733 [==============================] - 35s 47ms/step - loss: 0.2900 - accuracy: 0.8952 - val_loss: 3.7079 - val_accuracy: 0.5372\n",
      "Epoch 38/50\n",
      "733/733 [==============================] - 34s 47ms/step - loss: 0.2931 - accuracy: 0.8951 - val_loss: 3.8012 - val_accuracy: 0.5285\n",
      "Epoch 39/50\n",
      "733/733 [==============================] - 34s 47ms/step - loss: 0.2855 - accuracy: 0.8984 - val_loss: 4.2130 - val_accuracy: 0.5135\n",
      "Epoch 40/50\n",
      "733/733 [==============================] - 34s 47ms/step - loss: 0.2869 - accuracy: 0.8967 - val_loss: 3.9017 - val_accuracy: 0.5262\n",
      "Epoch 41/50\n",
      "733/733 [==============================] - 35s 48ms/step - loss: 0.2781 - accuracy: 0.9007 - val_loss: 3.6960 - val_accuracy: 0.5130\n",
      "Epoch 42/50\n",
      "733/733 [==============================] - 35s 47ms/step - loss: 0.2873 - accuracy: 0.8972 - val_loss: 3.4661 - val_accuracy: 0.5141\n",
      "Epoch 43/50\n",
      "733/733 [==============================] - 36s 49ms/step - loss: 0.2802 - accuracy: 0.9009 - val_loss: 3.2399 - val_accuracy: 0.5182\n",
      "Epoch 44/50\n",
      "733/733 [==============================] - 34s 47ms/step - loss: 0.2788 - accuracy: 0.9005 - val_loss: 4.1815 - val_accuracy: 0.5389\n",
      "Epoch 45/50\n",
      "733/733 [==============================] - 35s 48ms/step - loss: 0.2802 - accuracy: 0.9008 - val_loss: 3.8277 - val_accuracy: 0.5153\n",
      "Epoch 46/50\n",
      "733/733 [==============================] - 35s 47ms/step - loss: 0.2747 - accuracy: 0.9024 - val_loss: 4.5946 - val_accuracy: 0.5222\n",
      "Epoch 47/50\n",
      "733/733 [==============================] - 35s 47ms/step - loss: 0.2777 - accuracy: 0.9028 - val_loss: 4.2964 - val_accuracy: 0.5147\n",
      "Epoch 48/50\n",
      "733/733 [==============================] - 35s 48ms/step - loss: 0.2733 - accuracy: 0.9023 - val_loss: 3.9348 - val_accuracy: 0.5095\n",
      "Epoch 49/50\n",
      "733/733 [==============================] - 35s 48ms/step - loss: 0.2733 - accuracy: 0.9041 - val_loss: 3.6455 - val_accuracy: 0.5124\n",
      "Epoch 50/50\n",
      "733/733 [==============================] - 36s 49ms/step - loss: 0.2552 - accuracy: 0.9120 - val_loss: 4.4025 - val_accuracy: 0.5326\n"
     ]
    }
   ],
   "source": [
    "history=model.fit(X_train, Y_train,\n",
    "          batch_size=batch_size,\n",
    "          epochs=epochs,  \n",
    "          verbose=1,validation_data=(X_test,Y_test))"
   ]
  },
  {
   "cell_type": "code",
   "execution_count": 88,
   "metadata": {},
   "outputs": [
    {
     "name": "stdout",
     "output_type": "stream",
     "text": [
      "55/55 [==============================] - 4s 74ms/step - loss: 1.8042 - accuracy: 0.5522\n",
      "Test loss: 1.804225206375122\n",
      "Test accuracy: 0.5521613955497742\n"
     ]
    }
   ],
   "source": [
    "score = model.evaluate(X_test, Y_test, verbose=1)\n",
    "print('Test loss:', score[0])\n",
    "print('Test accuracy:', score[1])"
   ]
  },
  {
   "cell_type": "code",
   "execution_count": 89,
   "metadata": {},
   "outputs": [
    {
     "name": "stdout",
     "output_type": "stream",
     "text": [
      "55/55 [==============================] - 4s 67ms/step\n"
     ]
    }
   ],
   "source": [
    "y_pred=model.predict(X_test)\n",
    "from sklearn.metrics import confusion_matrix\n",
    "import numpy as np"
   ]
  },
  {
   "cell_type": "code",
   "execution_count": 21,
   "metadata": {},
   "outputs": [
    {
     "ename": "SyntaxError",
     "evalue": "incomplete input (2734734675.py, line 1)",
     "output_type": "error",
     "traceback": [
      "\u001b[1;36m  Cell \u001b[1;32mIn [21], line 1\u001b[1;36m\u001b[0m\n\u001b[1;33m    print(classification_report(Y_test1, y_pred, target_names)\u001b[0m\n\u001b[1;37m                                                              ^\u001b[0m\n\u001b[1;31mSyntaxError\u001b[0m\u001b[1;31m:\u001b[0m incomplete input\n"
     ]
    }
   ],
   "source": [
    " print(classification_report(Y_test1, y_pred, target_names)"
   ]
  },
  {
   "cell_type": "code",
   "execution_count": 90,
   "metadata": {},
   "outputs": [],
   "source": [
    "Y_test1=np.argmax(Y_test, axis=1)"
   ]
  },
  {
   "cell_type": "code",
   "execution_count": 91,
   "metadata": {},
   "outputs": [],
   "source": [
    "y_pred=np.argmax(y_pred,axis=1)"
   ]
  },
  {
   "cell_type": "code",
   "execution_count": 92,
   "metadata": {},
   "outputs": [],
   "source": [
    "cmatrix=confusion_matrix(Y_test1, y_pred)"
   ]
  },
  {
   "cell_type": "code",
   "execution_count": 98,
   "metadata": {},
   "outputs": [
    {
     "data": {
      "image/png": "[encoded data removed]",
      "text/plain": [
       "<Figure size 800x800 with 2 Axes>"
      ]
     },
     "metadata": {},
     "output_type": "display_data"
    }
   ],
   "source": [
    "import matplotlib.pyplot as plt\n",
    "import numpy\n",
    "import seaborn as sns\n",
    "figure = plt.figure(figsize=(8, 8))\n",
    "sns.heatmap(cmatrix, annot=True,cmap=plt.cm.Blues)\n",
    "plt.tight_layout()\n",
    "plt.ylabel('True label')\n",
    "plt.xlabel('Predicted label')\n",
    "plt.show()"
   ]
  },
  {
   "cell_type": "code",
   "execution_count": 22,
   "metadata": {},
   "outputs": [],
   "source": [
    "import pandas as pd\n",
    "import numpy as np\n",
    "from imblearn.pipeline import Pipeline\n",
    "import sklearn\n",
    "import matplotlib.pyplot as plt\n",
    "from sklearn.model_selection import cross_validate\n",
    "from sklearn.model_selection import RepeatedStratifiedKFold\n",
    "from imblearn.combine import SMOTEENN\n",
    "from imblearn.under_sampling import EditedNearestNeighbours\n",
    "from sklearn.feature_extraction.text import CountVectorizer,TfidfTransformer"
   ]
  },
  {
   "cell_type": "code",
   "execution_count": 23,
   "metadata": {},
   "outputs": [],
   "source": [
    "# data = pd.read_csv('mbti_1.csv')\n",
    "df = pd.read_csv('mbti_1.csv')\n",
    "v = df['type'].value_counts()"
   ]
  },
  {
   "cell_type": "code",
   "execution_count": 24,
   "metadata": {},
   "outputs": [
    {
     "name": "stderr",
     "output_type": "stream",
     "text": [
      "[nltk_data] Downloading package stopwords to\n",
      "[nltk_data]     C:\\Users\\Kiron\\AppData\\Roaming\\nltk_data...\n",
      "[nltk_data]   Package stopwords is already up-to-date!\n",
      "C:\\Users\\Kiron\\AppData\\Local\\Temp\\ipykernel_27000\\87628888.py:16: FutureWarning: The default value of regex will change from True to False in a future version.\n",
      "  df['posts'] = df['posts'].str.replace('\\d+', '')\n"
     ]
    }
   ],
   "source": [
    "df['posts'] = df['posts'].str.lower()\n",
    "df['posts'] = df['posts'].replace(r'http\\S+', '', regex=True).replace(r'www\\S+', '', regex=True).replace(r'https\\S+', '', regex=True)  #remove URL\n",
    "df['posts'] = df['posts'].str.replace('\\W', ' ', regex=True)\n",
    "df['posts'] = df['posts'].str.replace('_', ' ', regex=True)\n",
    "df['posts'] = df['posts'].str.strip()\n",
    "\n",
    "import nltk\n",
    "nltk.download('stopwords')\n",
    "from nltk.corpus import stopwords\n",
    "\n",
    "stop_words = stopwords.words('english')\n",
    "df['posts'] = df['posts'].apply(lambda x: ' '.join([word\n",
    "   for word in x.split() if word not in (stop_words)\n",
    "]))\n",
    "\n",
    "df['posts'] = df['posts'].str.replace('\\d+', '')"
   ]
  },
  {
   "cell_type": "code",
   "execution_count": 25,
   "metadata": {},
   "outputs": [],
   "source": [
    "#nltk.download('punkt')\n",
    "from nltk import word_tokenize\n",
    "\n",
    "from nltk.stem import WordNetLemmatizer\n",
    "#nltk.download('all', halt_on_error=False)\n",
    "\n",
    "df['tokenized'] = [word_tokenize(entry) for entry in df['posts']]\n",
    "#nltk.download('wordnet')\n",
    "\n",
    "\n",
    "def lemmatize(s):\n",
    "    s = [WordNetLemmatizer().lemmatize(word) for word in s]\n",
    "    return s\n",
    "\n",
    "df = df.assign(lemmatized = df.tokenized.apply(lambda x: lemmatize(x)))\n",
    "\n",
    "df['lemmatizedstring'] = df['lemmatized'].apply(lambda x: ' '.join(map(str, x)))\n",
    "\n",
    "df.to_csv('feature_input.csv')"
   ]
  },
  {
   "cell_type": "code",
   "execution_count": 26,
   "metadata": {},
   "outputs": [
    {
     "name": "stdout",
     "output_type": "stream",
     "text": [
      "[0.6774193548387096]\n"
     ]
    }
   ],
   "source": [
    "#Cross Validation - SVM\n",
    "\n",
    "import pandas as pd\n",
    "import sklearn\n",
    "from sklearn.model_selection import KFold \n",
    "from sklearn.metrics import accuracy_score\n",
    "import numpy as np\n",
    "from imblearn.over_sampling import SMOTE\n",
    "from sklearn.preprocessing import LabelEncoder\n",
    "from sklearn.svm import SVC\n",
    "\n",
    "#df = pd.read_csv('feature_input.csv')\n",
    "\n",
    "vectorizer=sklearn.feature_extraction.text.TfidfVectorizer( max_features=603,stop_words='english')\n",
    "target_encoder=LabelEncoder()\n",
    "sm = SMOTE(random_state=42)\n",
    "\n",
    "model_svc=SVC()\n",
    "kf = KFold(n_splits=10, shuffle=True, random_state=1)\n",
    "\n",
    "acc_train_score = []\n",
    "acc_test_score = []\n",
    "\n",
    "\n",
    "for train_index, test_index in kf.split(df):\n",
    "    train_data, test_data = df.iloc[train_index, :], df.iloc[test_index, :]\n",
    "\n",
    "    vectorizer.fit(train_data.lemmatizedstring)\n",
    "    train_post=vectorizer.transform(train_data.lemmatizedstring).toarray()\n",
    "    test_post=vectorizer.transform(test_data.lemmatizedstring).toarray()\n",
    "\n",
    "    train_target=target_encoder.fit_transform(train_data.type)\n",
    "    test_target=target_encoder.fit_transform(test_data.type)\n",
    "\n",
    "    train_res,train_target_res= sm.fit_resample(train_post,train_target)\n",
    "\n",
    "    #model fitting\n",
    "    model_svc.fit(train_res,train_target_res)\n",
    "    pred_svc=model_svc.predict(test_post) \n",
    "    pred_training_svc=model_svc.predict(train_res)\n",
    "\n",
    "    acc_train = accuracy_score(train_target_res, pred_training_svc)\n",
    "    acc_test = accuracy_score(test_target, pred_svc)\n",
    "    acc_train_score.append(acc_train)\n",
    "    acc_test_score.append(acc_test)\n",
    "    print(acc_test_score)\n",
    "\n",
    "avg_acc_train_score = sum(acc_train_score)/10\n",
    "avg_acc_test_score = sum(acc_test_score)/10\n",
    "print(\"Train accuracy of each fold: {}\".format(acc_train_score))\n",
    "print(\"Average train accuracy: {}\".format(avg_acc_train_score))\n",
    "print(\"Test accuracy of each fold: {}\".format(acc_test_score))\n",
    "print(\"Average test accuracy: {}\".format(avg_acc_test_score)) "
   ]
  },
  {
   "cell_type": "code",
   "execution_count": 6,
   "metadata": {},
   "outputs": [
    {
     "name": "stdout",
     "output_type": "stream",
     "text": [
      "[0.6923963133640553]\n",
      "[0.6923963133640553, 0.6774193548387096]\n",
      "[0.6923963133640553, 0.6774193548387096, 0.6451612903225806]\n",
      "[0.6923963133640553, 0.6774193548387096, 0.6451612903225806, 0.17050691244239632]\n",
      "[0.6923963133640553, 0.6774193548387096, 0.6451612903225806, 0.17050691244239632, 0.684331797235023]\n",
      "[0.6923963133640553, 0.6774193548387096, 0.6451612903225806, 0.17050691244239632, 0.684331797235023, 0.6862745098039216]\n",
      "[0.6923963133640553, 0.6774193548387096, 0.6451612903225806, 0.17050691244239632, 0.684331797235023, 0.6862745098039216, 0.657439446366782]\n",
      "[0.6923963133640553, 0.6774193548387096, 0.6451612903225806, 0.17050691244239632, 0.684331797235023, 0.6862745098039216, 0.657439446366782, 0.6770472895040369]\n",
      "[0.6923963133640553, 0.6774193548387096, 0.6451612903225806, 0.17050691244239632, 0.684331797235023, 0.6862745098039216, 0.657439446366782, 0.6770472895040369, 0.621683967704729]\n",
      "[0.6923963133640553, 0.6774193548387096, 0.6451612903225806, 0.17050691244239632, 0.684331797235023, 0.6862745098039216, 0.657439446366782, 0.6770472895040369, 0.621683967704729, 0.6608996539792388]\n",
      "Train accuracy of each fold: [0.9892911585365853, 0.989273802304427, 0.9892878696439348, 0.9906115879828327, 0.9891469338190649, 0.9891616314199396, 0.9895896197948099, 0.9896278218425869, 0.9899593862815884, 0.9889839491217444]\n",
      "Average train accuracy: 0.9894933760747513\n",
      "Test accuracy of each fold: [0.6923963133640553, 0.6774193548387096, 0.6451612903225806, 0.17050691244239632, 0.684331797235023, 0.6862745098039216, 0.657439446366782, 0.6770472895040369, 0.621683967704729, 0.6608996539792388]\n",
      "Average test accuracy: 0.6173160535561473\n"
     ]
    }
   ],
   "source": [
    "#Cross Validation - XGB\n",
    "\n",
    "import pandas as pd\n",
    "from sklearn.model_selection import KFold \n",
    "from sklearn.metrics import accuracy_score\n",
    "import numpy as np\n",
    "from imblearn.over_sampling import SMOTE\n",
    "from sklearn.preprocessing import LabelEncoder\n",
    "from xgboost import XGBClassifier\n",
    "\n",
    "#df = pd.read_csv('feature_input.csv')\n",
    "\n",
    "vectorizer=sklearn.feature_extraction.text.TfidfVectorizer( max_features=603,stop_words='english')\n",
    "target_encoder=LabelEncoder()\n",
    "sm = SMOTE(random_state=42)\n",
    "\n",
    "model_xgb = XGBClassifier(gpu_id=0,tree_method='gpu_hist',max_depth=5,n_estimators=50,learning_rate=0.2)\n",
    "kf = KFold(n_splits=10, shuffle=True, random_state=1)\n",
    "\n",
    "acc_train_score = []\n",
    "acc_test_score = []\n",
    "\n",
    "\n",
    "for train_index, test_index in kf.split(df):\n",
    "    train_data, test_data = df.iloc[train_index, :], df.iloc[test_index, :]\n",
    "\n",
    "    vectorizer.fit(train_data.lemmatizedstring)\n",
    "    train_post=vectorizer.transform(train_data.lemmatizedstring).toarray()\n",
    "    test_post=vectorizer.transform(test_data.lemmatizedstring).toarray()\n",
    "\n",
    "    train_target=target_encoder.fit_transform(train_data.type)\n",
    "    test_target=target_encoder.fit_transform(test_data.type)\n",
    "\n",
    "    train_res,train_target_res= sm.fit_resample(train_post,train_target)\n",
    "\n",
    "    #model fitting\n",
    "    model_xgb.fit(train_res,train_target_res)\n",
    "    pred_xg=model_xgb.predict(test_post) \n",
    "    pred_training_xg=model_xgb.predict(train_res)\n",
    "\n",
    "    acc_train = accuracy_score(train_target_res, pred_training_xg)\n",
    "    acc_test = accuracy_score(test_target, pred_xg)\n",
    "    acc_train_score.append(acc_train)\n",
    "    acc_test_score.append(acc_test)\n",
    "    print(acc_test_score)\n",
    "\n",
    "avg_acc_train_score = sum(acc_train_score)/10\n",
    "avg_acc_test_score = sum(acc_test_score)/10\n",
    "print(\"Train accuracy of each fold: {}\".format(acc_train_score))\n",
    "print(\"Average train accuracy: {}\".format(avg_acc_train_score))\n",
    "print(\"Test accuracy of each fold: {}\".format(acc_test_score))\n",
    "print(\"Average test accuracy: {}\".format(avg_acc_test_score))"
   ]
  },
  {
   "cell_type": "code",
   "execution_count": 7,
   "metadata": {},
   "outputs": [
    {
     "name": "stdout",
     "output_type": "stream",
     "text": [
      "[0.5737327188940092]\n",
      "[0.5737327188940092, 0.5852534562211982]\n",
      "[0.5737327188940092, 0.5852534562211982, 0.554147465437788]\n",
      "[0.5737327188940092, 0.5852534562211982, 0.554147465437788, 0.14861751152073732]\n",
      "[0.5737327188940092, 0.5852534562211982, 0.554147465437788, 0.14861751152073732, 0.5610599078341014]\n",
      "[0.5737327188940092, 0.5852534562211982, 0.554147465437788, 0.14861751152073732, 0.5610599078341014, 0.5847750865051903]\n",
      "[0.5737327188940092, 0.5852534562211982, 0.554147465437788, 0.14861751152073732, 0.5610599078341014, 0.5847750865051903, 0.5628604382929643]\n",
      "[0.5737327188940092, 0.5852534562211982, 0.554147465437788, 0.14861751152073732, 0.5610599078341014, 0.5847750865051903, 0.5628604382929643, 0.5651672433679354]\n",
      "[0.5737327188940092, 0.5852534562211982, 0.554147465437788, 0.14861751152073732, 0.5610599078341014, 0.5847750865051903, 0.5628604382929643, 0.5651672433679354, 0.5363321799307958]\n",
      "[0.5737327188940092, 0.5852534562211982, 0.554147465437788, 0.14861751152073732, 0.5610599078341014, 0.5847750865051903, 0.5628604382929643, 0.5651672433679354, 0.5363321799307958, 0.5559400230680508]\n",
      "Train accuracy of each fold: [0.7520960365853658, 0.759020618556701, 0.7601086300543151, 0.7524524831391785, 0.7529978749241044, 0.7517371601208459, 0.753130657815329, 0.7483602806589383, 0.748232551143201, 0.7494321623258631]\n",
      "Average train accuracy: 0.7527568455323843\n",
      "Test accuracy of each fold: [0.5737327188940092, 0.5852534562211982, 0.554147465437788, 0.14861751152073732, 0.5610599078341014, 0.5847750865051903, 0.5628604382929643, 0.5651672433679354, 0.5363321799307958, 0.5559400230680508]\n",
      "Average test accuracy: 0.5227886031072771\n"
     ]
    }
   ],
   "source": [
    "#Cross Validation - NB\n",
    "\n",
    "import pandas as pd\n",
    "from sklearn.model_selection import KFold \n",
    "from sklearn.metrics import accuracy_score\n",
    "import numpy as np\n",
    "from imblearn.over_sampling import SMOTE\n",
    "from sklearn.preprocessing import LabelEncoder\n",
    "from sklearn.naive_bayes import MultinomialNB\n",
    "\n",
    "#df = pd.read_csv('feature_input.csv')\n",
    "\n",
    "vectorizer=sklearn.feature_extraction.text.TfidfVectorizer( max_features=603,stop_words='english')\n",
    "target_encoder=LabelEncoder()\n",
    "sm = SMOTE(random_state=42)\n",
    "\n",
    "model_multinomial_nb=MultinomialNB()\n",
    "kf = KFold(n_splits=10, shuffle=True, random_state=1)\n",
    "\n",
    "acc_train_score = []\n",
    "acc_test_score = []\n",
    "\n",
    "\n",
    "for train_index, test_index in kf.split(df):\n",
    "    train_data, test_data = df.iloc[train_index, :], df.iloc[test_index, :]\n",
    "\n",
    "    vectorizer.fit(train_data.lemmatizedstring)\n",
    "    train_post=vectorizer.transform(train_data.lemmatizedstring).toarray()\n",
    "    test_post=vectorizer.transform(test_data.lemmatizedstring).toarray()\n",
    "\n",
    "    train_target=target_encoder.fit_transform(train_data.type)\n",
    "    test_target=target_encoder.fit_transform(test_data.type)\n",
    "\n",
    "    train_res,train_target_res= sm.fit_resample(train_post,train_target)\n",
    "\n",
    "    #model fitting\n",
    "    model_multinomial_nb.fit(train_res,train_target_res)\n",
    "    pred_nb=model_multinomial_nb.predict(test_post)\n",
    "    pred_training_nb=model_multinomial_nb.predict(train_res)\n",
    "\n",
    "    acc_train = accuracy_score(train_target_res,pred_training_nb)\n",
    "    acc_test = accuracy_score(test_target,pred_nb)\n",
    "    acc_train_score.append(acc_train)\n",
    "    acc_test_score.append(acc_test)\n",
    "    print(acc_test_score)\n",
    "\n",
    "avg_acc_train_score = sum(acc_train_score)/10\n",
    "avg_acc_test_score = sum(acc_test_score)/10\n",
    "print(\"Train accuracy of each fold: {}\".format(acc_train_score))\n",
    "print(\"Average train accuracy: {}\".format(avg_acc_train_score))\n",
    "print(\"Test accuracy of each fold: {}\".format(acc_test_score))\n",
    "print(\"Average test accuracy: {}\".format(avg_acc_test_score))"
   ]
  },
  {
   "cell_type": "code",
   "execution_count": 8,
   "metadata": {},
   "outputs": [
    {
     "name": "stdout",
     "output_type": "stream",
     "text": [
      "[0.6785714285714286]\n",
      "[0.6785714285714286, 0.6658986175115207]\n",
      "[0.6785714285714286, 0.6658986175115207, 0.6612903225806451]\n",
      "[0.6785714285714286, 0.6658986175115207, 0.6612903225806451, 0.17972350230414746]\n",
      "[0.6785714285714286, 0.6658986175115207, 0.6612903225806451, 0.17972350230414746, 0.6647465437788018]\n",
      "[0.6785714285714286, 0.6658986175115207, 0.6612903225806451, 0.17972350230414746, 0.6647465437788018, 0.6828143021914648]\n",
      "[0.6785714285714286, 0.6658986175115207, 0.6612903225806451, 0.17972350230414746, 0.6647465437788018, 0.6828143021914648, 0.6632064590542099]\n",
      "[0.6785714285714286, 0.6658986175115207, 0.6612903225806451, 0.17972350230414746, 0.6647465437788018, 0.6828143021914648, 0.6632064590542099, 0.6701268742791234]\n",
      "[0.6785714285714286, 0.6658986175115207, 0.6612903225806451, 0.17972350230414746, 0.6647465437788018, 0.6828143021914648, 0.6632064590542099, 0.6701268742791234, 0.6424452133794695]\n",
      "[0.6785714285714286, 0.6658986175115207, 0.6612903225806451, 0.17972350230414746, 0.6647465437788018, 0.6828143021914648, 0.6632064590542099, 0.6701268742791234, 0.6424452133794695, 0.6655132641291811]\n",
      "Train accuracy of each fold: [0.8733993902439025, 0.8778426318981201, 0.8799034399517199, 0.878295524218271, 0.8773527625986642, 0.876963746223565, 0.8801674713337356, 0.8778218425869433, 0.8819193742478941, 0.8768549364021805]\n",
      "Average train accuracy: 0.8780521119704996\n",
      "Test accuracy of each fold: [0.6785714285714286, 0.6658986175115207, 0.6612903225806451, 0.17972350230414746, 0.6647465437788018, 0.6828143021914648, 0.6632064590542099, 0.6701268742791234, 0.6424452133794695, 0.6655132641291811]\n",
      "Average test accuracy: 0.6174336527779992\n"
     ]
    }
   ],
   "source": [
    "#Cross Validation - LR\n",
    "\n",
    "import pandas as pd\n",
    "from sklearn.model_selection import KFold \n",
    "from sklearn.metrics import accuracy_score\n",
    "import numpy as np\n",
    "from imblearn.over_sampling import SMOTE\n",
    "from sklearn.preprocessing import LabelEncoder\n",
    "from sklearn.linear_model import LogisticRegression\n",
    "\n",
    "#df = pd.read_csv('feature_input.csv')\n",
    "\n",
    "vectorizer=sklearn.feature_extraction.text.TfidfVectorizer( max_features=603,stop_words='english')\n",
    "target_encoder=LabelEncoder()\n",
    "sm = SMOTE(random_state=42)\n",
    "\n",
    "model_logreg=LogisticRegression(max_iter=3000,C=0.5,n_jobs=-1)\n",
    "kf = KFold(n_splits=10, shuffle=True, random_state=1)\n",
    "\n",
    "acc_train_score = []\n",
    "acc_test_score = []\n",
    "\n",
    "\n",
    "for train_index, test_index in kf.split(df):\n",
    "    train_data, test_data = df.iloc[train_index, :], df.iloc[test_index, :]\n",
    "\n",
    "    vectorizer.fit(train_data.lemmatizedstring)\n",
    "    train_post=vectorizer.transform(train_data.lemmatizedstring).toarray()\n",
    "    test_post=vectorizer.transform(test_data.lemmatizedstring).toarray()\n",
    "\n",
    "    train_target=target_encoder.fit_transform(train_data.type)\n",
    "    test_target=target_encoder.fit_transform(test_data.type)\n",
    "\n",
    "    train_res,train_target_res= sm.fit_resample(train_post,train_target)\n",
    "\n",
    "    #model fitting\n",
    "    model_logreg.fit(train_res,train_target_res)\n",
    "    pred_lg=model_logreg.predict(test_post)\n",
    "    pred_training_lg=model_logreg.predict(train_res)\n",
    "\n",
    "    acc_train = accuracy_score(train_target_res,pred_training_lg)\n",
    "    acc_test = accuracy_score(test_target,pred_lg)\n",
    "    acc_train_score.append(acc_train)\n",
    "    acc_test_score.append(acc_test)\n",
    "    print(acc_test_score)\n",
    "\n",
    "avg_acc_train_score = sum(acc_train_score)/10\n",
    "avg_acc_test_score = sum(acc_test_score)/10\n",
    "print(\"Train accuracy of each fold: {}\".format(acc_train_score))\n",
    "print(\"Average train accuracy: {}\".format(avg_acc_train_score))\n",
    "print(\"Test accuracy of each fold: {}\".format(acc_test_score))\n",
    "print(\"Average test accuracy: {}\".format(avg_acc_test_score))"
   ]
  },
  {
   "cell_type": "code",
   "execution_count": null,
   "metadata": {},
   "outputs": [],
   "source": []
  }
 ],
 "metadata": {
  "kernelspec": {
   "display_name": "Python 3.10.6 64-bit",
   "language": "python",
   "name": "python3"
  },
  "language_info": {
   "codemirror_mode": {
    "name": "ipython",
    "version": 3
   },
   "file_extension": ".py",
   "mimetype": "text/x-python",
   "name": "python",
   "nbconvert_exporter": "python",
   "pygments_lexer": "ipython3",
   "version": "3.10.6"
  },
  "orig_nbformat": 4,
  "vscode": {
   "interpreter": {
    "hash": "96fe78e1160bd38d5bcd5e958ff037b573d22c151d5b9ea3f9bb9abcae8e4d09"
   }
  }
 },
 "nbformat": 4,
 "nbformat_minor": 2
}
